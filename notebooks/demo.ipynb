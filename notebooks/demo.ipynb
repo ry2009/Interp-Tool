{
 "cells": [
  {
   "cell_type": "code",
   "execution_count": null,
   "metadata": {
    "vscode": {
     "languageId": "plaintext"
    }
   },
   "outputs": [],
   "source": [
    "# Interp-Toolkit Demo\n",
    "## Analyzing LLM Activations with CPU-friendly Tools\n"
   ]
  },
  {
   "cell_type": "code",
   "execution_count": null,
   "metadata": {},
   "outputs": [],
   "source": [
    "# Install dependencies in Colab\n",
    "!pip install transformer-lens plotly pandas\n"
   ]
  },
  {
   "cell_type": "code",
   "execution_count": null,
   "metadata": {},
   "outputs": [],
   "source": [
    "import torch\n",
    "from transformer_lens import HookedTransformer\n",
    "import plotly.express as px\n",
    "import pandas as pd\n",
    "\n",
    "# Load TinyLlama model\n",
    "model = HookedTransformer.from_pretrained('TinyLlama/TinyLlama-1.1B-Chat-v1.0')\n",
    "print(f\"Model loaded: {model.cfg.model_name}\")\n"
   ]
  },
  {
   "cell_type": "code",
   "execution_count": null,
   "metadata": {},
   "outputs": [],
   "source": [
    "# Generate sample activations\n",
    "text = \"The quick brown fox jumps over the lazy dog\"\n",
    "tokens = model.to_tokens(text)\n",
    "logits, cache = model.run_with_cache(tokens)\n",
    "\n",
    "# Extract activation patterns\n",
    "activations = []\n",
    "for layer in range(model.cfg.n_layers):\n",
    "    act = cache[f'blocks.{layer}.hook_resid_post']\n",
    "    mean_act = act.mean().item()\n",
    "    activations.append({'layer': layer, 'activation': mean_act})\n",
    "\n",
    "print(f\"Extracted activations for {len(activations)} layers\")\n"
   ]
  },
  {
   "cell_type": "code",
   "execution_count": null,
   "metadata": {},
   "outputs": [],
   "source": [
    "# Visualize activation patterns\n",
    "df = pd.DataFrame(activations)\n",
    "fig = px.line(df, x='layer', y='activation', \n",
    "              title='Layer-wise Activation Patterns',\n",
    "              labels={'layer': 'Layer', 'activation': 'Mean Activation'})\n",
    "fig.show()\n"
   ]
  }
 ],
 "metadata": {
  "language_info": {
   "name": "python"
  }
 },
 "nbformat": 4,
 "nbformat_minor": 2
}
